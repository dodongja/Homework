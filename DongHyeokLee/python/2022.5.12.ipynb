{
 "cells": [
  {
   "cell_type": "code",
   "execution_count": 1,
   "id": "a4288311",
   "metadata": {},
   "outputs": [
    {
     "name": "stdout",
     "output_type": "stream",
     "text": [
      "Hello Python\n"
     ]
    }
   ],
   "source": [
    "print(\"Hello Python\")"
   ]
  },
  {
   "cell_type": "code",
   "execution_count": 2,
   "id": "2d592f91",
   "metadata": {},
   "outputs": [
    {
     "name": "stdout",
     "output_type": "stream",
     "text": [
      "Hello Python\n"
     ]
    }
   ],
   "source": [
    "print('Hello Python')"
   ]
  },
  {
   "cell_type": "code",
   "execution_count": 4,
   "id": "82124c4c",
   "metadata": {},
   "outputs": [
    {
     "name": "stdout",
     "output_type": "stream",
     "text": [
      "1 10\n"
     ]
    }
   ],
   "source": [
    "num=1\n",
    "Num=10\n",
    "print(num,Num)"
   ]
  },
  {
   "cell_type": "code",
   "execution_count": 2,
   "id": "eb84a5ef",
   "metadata": {},
   "outputs": [
    {
     "name": "stdout",
     "output_type": "stream",
     "text": [
      "<class 'complex'>\n",
      "-4.0\n",
      "3.0\n",
      "(3+4j)\n"
     ]
    }
   ],
   "source": [
    "z = 3 - 4j\n",
    "\n",
    "#complex(real, imag)\treal + imag*1j 값을 갖는 복소수\n",
    "print(type(z))\n",
    "print(z.imag)\n",
    "print(z.real)\n",
    "#conjugate - 복소켤레 또는 복소공액 (complex conjugate)은 복소수 연산 중 하나로 a + bi 꼴의 복소수에서 허수부의 부호를 바꾼 것이다.\n",
    "print(z.conjugate())"
   ]
  },
  {
   "cell_type": "code",
   "execution_count": 10,
   "id": "4385d280",
   "metadata": {},
   "outputs": [
    {
     "name": "stdout",
     "output_type": "stream",
     "text": [
      "0 555 0.5 555.625\n"
     ]
    }
   ],
   "source": [
    "# / 는 일반적인 나누기\n",
    "# // 는 나머지를 버림 (몫만 취함)\n",
    "\n",
    "num1 = 4 // 8\n",
    "num2 = 4445 // 8\n",
    "num3 = 4 / 8\n",
    "num4 = 4445 / 8\n",
    "\n",
    "print(num1, num2, num3, num4)"
   ]
  },
  {
   "cell_type": "code",
   "execution_count": 17,
   "id": "e18bf5ad",
   "metadata": {},
   "outputs": [
    {
     "name": "stdout",
     "output_type": "stream",
     "text": [
      "test python\n",
      "pointer\n",
      "p\n",
      "n\n",
      "p\n",
      "oin\n",
      "po\n",
      "er\n",
      "pointer\n",
      "pitr\n"
     ]
    }
   ],
   "source": [
    "testStr = 'test' + ' python'\n",
    "print(testStr)\n",
    "\n",
    "str1 = \"pointer\"\n",
    "print(str1)\n",
    "print(str1[0])\n",
    "print(str1[3])\n",
    "\n",
    "print(str1[0:1]) # 0 ~ 1 미만\n",
    "print(str1[1:4]) # 1 ~ 4 미만\n",
    "print(str1[:2])  # 시작이 없으면 자동 0\n",
    "print(str1[-2:]) # 끝이 없으면 자동 0\n",
    "print(str1[:])   # 통채로 복사\n",
    "print(str1[::2]) # 두칸씩 건너뛰기"
   ]
  },
  {
   "cell_type": "code",
   "execution_count": 18,
   "id": "65db30b9",
   "metadata": {},
   "outputs": [
    {
     "name": "stdout",
     "output_type": "stream",
     "text": [
      "['red', 'green', 'blue']\n",
      "<class 'list'>\n",
      "['red', 'green', 'blue', 'gold']\n",
      "['red', 'black', 'green', 'blue', 'gold']\n",
      "['red', 'black', 'green', 'blue', 'gold', 'white', 'gray']\n",
      "['red', 'black', 'green', 'blue', 'gold', 'white', 'gray', 'purple', 'red']\n"
     ]
    }
   ],
   "source": [
    "colors = ['red', 'green', 'blue']\n",
    "\n",
    "print(colors)\n",
    "print(type(colors))\n",
    "#[] list\n",
    "\n",
    "colors.append('gold')\n",
    "\n",
    "print(colors)\n",
    "\n",
    "colors.insert(1, 'black')\n",
    "\n",
    "print(colors)\n",
    "\n",
    "colors.extend(['white', 'gray'])\n",
    "\n",
    "print(colors)\n",
    "\n",
    "colors += ['purple']\n",
    "colors += ['red']\n",
    "\n",
    "print(colors)"
   ]
  },
  {
   "cell_type": "code",
   "execution_count": 3,
   "id": "bfb953e4",
   "metadata": {},
   "outputs": [
    {
     "name": "stdout",
     "output_type": "stream",
     "text": [
      "7\n",
      "7\n",
      "7\n",
      "2\n",
      "0\n",
      "red\n",
      "purple\n",
      "gray\n",
      "white\n",
      "['red', 'black', 'green', 'blue', 'gold']\n"
     ]
    }
   ],
   "source": [
    "colors = ['red', 'black', 'green', 'blue', 'gold', 'white', 'gray', 'purple', 'red']\n",
    "\n",
    "print(colors.index('purple'))\n",
    "print(colors.index('purple', 1)) #인덱스 1부터\n",
    "print(colors.index('purple', 4, 8)) # 인덱스 4와 8사이의 purple\n",
    "#print(colors.index('purple', 0, 6))  그 사이에 지정된 값 없으면 error생김\n",
    "\n",
    "print(colors.count('red'))\n",
    "print(colors.count('orange')) # 없는건 0으로 카운트되네\n",
    "print(colors.pop()) #뒤에서부터 삭제 하네\n",
    "print(colors.pop())\n",
    "print(colors.pop())\n",
    "print(colors.pop())\n",
    "print(colors)"
   ]
  },
  {
   "cell_type": "code",
   "execution_count": 4,
   "id": "5493f7c2",
   "metadata": {},
   "outputs": [
    {
     "name": "stdout",
     "output_type": "stream",
     "text": [
      "{'apple': 'red', 'banana': 'yellow'}\n",
      "red\n",
      "{'apple': 'red', 'banana': 'yellow', 'cherry': 'red'}\n",
      "{'apple': 'green', 'banana': 'yellow', 'cherry': 'red'}\n",
      "color.items()\n",
      "('apple', 'green')\n",
      "color.items()\n",
      "('banana', 'yellow')\n",
      "color.items()\n",
      "('cherry', 'red')\n",
      "color.items() - k, v\n",
      "apple green\n",
      "color.items() - k, v\n",
      "banana yellow\n",
      "color.items() - k, v\n",
      "cherry red\n",
      "color.keys()\n",
      "apple\n",
      "color.keys()\n",
      "banana\n",
      "color.keys()\n",
      "cherry\n",
      "color.values()\n",
      "green\n",
      "color.values()\n",
      "yellow\n",
      "color.values()\n",
      "red\n",
      "<class 'dict_keys'>\n",
      "['apple', 'banana', 'cherry']\n"
     ]
    }
   ],
   "source": [
    "# Key: Value\n",
    "color = {\"apple\": \"red\", \"banana\": \"yellow\"}\n",
    "print(color)\n",
    "print(color[\"apple\"])\n",
    "\n",
    "color[\"cherry\"] = \"red\"\n",
    "print(color)\n",
    "\n",
    "color[\"apple\"] = \"green\"\n",
    "print(color)\n",
    "\n",
    "for c in color.items():\n",
    "    print(\"color.items()\")\n",
    "    print(c)\n",
    "    \n",
    "for k, v in color.items():\n",
    "    print(\"color.items() - k, v\")\n",
    "    print(k, v)\n",
    "    \n",
    "for k in color.keys():\n",
    "    print(\"color.keys()\")\n",
    "    print(k)\n",
    "    \n",
    "for v in color.values():\n",
    "    print(\"color.values()\")\n",
    "    print(v)\n",
    "    \n",
    "print(type(color.keys())) # dictionary {} array[] tuple() 튜플은 이미 생성된 원소를 제거하거나, 변경할 수 없습니다\n",
    "print(list(color.keys()))"
   ]
  },
  {
   "cell_type": "code",
   "execution_count": 5,
   "id": "b971ef04",
   "metadata": {},
   "outputs": [
    {
     "name": "stdout",
     "output_type": "stream",
     "text": [
      "val 은 5 보다 크다!\n"
     ]
    }
   ],
   "source": [
    "# 파이썬에서 제어문은 어떻게 쓸까 ?\n",
    "# 파이썬은 중괄호를 통해 스코핑을 하지 않는다.\n",
    "# 오로지 탭키를 통해서만 스코핑을 한다.\n",
    "# 그렇기 때문에 들여쓰기를 잘 적용해줘야함\n",
    "val = 10\n",
    "if val > 5:\n",
    "    print(\"val 은 5 보다 크다!\")"
   ]
  },
  {
   "cell_type": "code",
   "execution_count": 6,
   "id": "1121f0a2",
   "metadata": {},
   "outputs": [
    {
     "name": "stdout",
     "output_type": "stream",
     "text": [
      "banana\n"
     ]
    }
   ],
   "source": [
    "money = 10\n",
    "if money > 100:\n",
    "    item = \"apple\"\n",
    "else:\n",
    "    item = \"banana\"\n",
    "    \n",
    "print(item)"
   ]
  },
  {
   "cell_type": "code",
   "execution_count": 7,
   "id": "521ed12c",
   "metadata": {},
   "outputs": [
    {
     "name": "stdout",
     "output_type": "stream",
     "text": [
      "점수를 입력하시오: 30\n",
      "등급은: F\n"
     ]
    }
   ],
   "source": [
    "score = int(input(('점수를 입력하시오: ')))\n",
    "if 90 <= score <= 100:\n",
    "    grade = \"A\"\n",
    "elif 80 <= score < 90:\n",
    "    grade = \"B\"\n",
    "elif 70 <= score < 80:\n",
    "    grade = \"C\"\n",
    "elif 60 <= score < 70:\n",
    "    grade = \"D\"\n",
    "else:\n",
    "    grade = \"F\"\n",
    "    \n",
    "print(\"등급은: \" + grade)"
   ]
  },
  {
   "cell_type": "code",
   "execution_count": 12,
   "id": "1d660252",
   "metadata": {},
   "outputs": [
    {
     "name": "stdout",
     "output_type": "stream",
     "text": [
      "글을 작성하시오: gd\n"
     ]
    }
   ],
   "source": [
    "text = input(('글을 작성하시오: '))"
   ]
  },
  {
   "cell_type": "code",
   "execution_count": 13,
   "id": "0d66af35",
   "metadata": {},
   "outputs": [
    {
     "name": "stdout",
     "output_type": "stream",
     "text": [
      "아이템: 1\n",
      "아이템: 2\n",
      "아이템: 3\n",
      "아이템: 4\n",
      "아이템: 5\n"
     ]
    }
   ],
   "source": [
    "numList = [1, 2, 3, 4, 5, 6, 7, 8, 9, 10]\n",
    "\n",
    "for i in numList:\n",
    "    if i > 5:\n",
    "        break\n",
    "        \n",
    "    print(\"아이템: {0}\".format(i))"
   ]
  },
  {
   "cell_type": "code",
   "execution_count": 14,
   "id": "e2c00495",
   "metadata": {},
   "outputs": [
    {
     "name": "stdout",
     "output_type": "stream",
     "text": [
      "아이템: 1, 2\n",
      "아이템: 3, 6\n",
      "아이템: 5, 10\n",
      "아이템: 7, 14\n",
      "아이템: 9, 18\n"
     ]
    }
   ],
   "source": [
    "numList = [1, 2, 3, 4, 5, 6, 7, 8, 9, 10]\n",
    "\n",
    "for i in numList:\n",
    "    if i % 2 == 0:\n",
    "        continue\n",
    "        \n",
    "    print(\"아이템: {0}, {1}\".format(i, i * 2))"
   ]
  },
  {
   "cell_type": "code",
   "execution_count": 15,
   "id": "34b195a7",
   "metadata": {},
   "outputs": [
    {
     "name": "stdout",
     "output_type": "stream",
     "text": [
      "[0, 1, 2, 3, 4, 5, 6, 7, 8, 9]\n"
     ]
    }
   ],
   "source": [
    "print(list(range(10)))"
   ]
  },
  {
   "cell_type": "code",
   "execution_count": 17,
   "id": "ea066b65",
   "metadata": {},
   "outputs": [
    {
     "name": "stdout",
     "output_type": "stream",
     "text": [
      "[10, 12, 14, 16, 18]\n"
     ]
    }
   ],
   "source": [
    "print(list(range(10,20,2)))"
   ]
  },
  {
   "cell_type": "code",
   "execution_count": 18,
   "id": "4b920e29",
   "metadata": {},
   "outputs": [
    {
     "name": "stdout",
     "output_type": "stream",
     "text": [
      "[10, 9, 8, 7, 6, 5, 4, 3, 2, 1]\n"
     ]
    }
   ],
   "source": [
    "print(list(range(10, 0, -1)))"
   ]
  },
  {
   "cell_type": "code",
   "execution_count": 19,
   "id": "5fe12b90",
   "metadata": {},
   "outputs": [
    {
     "name": "stdout",
     "output_type": "stream",
     "text": [
      "10\n",
      "12\n",
      "14\n",
      "16\n",
      "18\n"
     ]
    }
   ],
   "source": [
    "for i in range(10, 20, 2):\n",
    "    print(i)"
   ]
  },
  {
   "cell_type": "code",
   "execution_count": 23,
   "id": "0f687118",
   "metadata": {},
   "outputs": [
    {
     "name": "stdout",
     "output_type": "stream",
     "text": [
      "인덱스: 0, 값: Apple\n",
      "5\n",
      "인덱스: 1, 값: Orange\n",
      "6\n",
      "인덱스: 2, 값: Banana\n",
      "6\n"
     ]
    }
   ],
   "source": [
    "strList = ['Apple', 'Orange', 'Banana']\n",
    "# len 문자열의 길이를 반환\n",
    "for i in range(len(strList)):\n",
    "    print(\"인덱스: {0}, 값: {1}\".format(i, strList[i]))\n",
    "    print(len(strList[i]))"
   ]
  },
  {
   "cell_type": "code",
   "execution_count": 21,
   "id": "900ff7c1",
   "metadata": {},
   "outputs": [
    {
     "name": "stdout",
     "output_type": "stream",
     "text": [
      "[1, 4, 9, 16, 25]\n"
     ]
    }
   ],
   "source": [
    "\n",
    "numList = list(range(1, 6))\n",
    "print([i ** 2 for i in numList])\n"
   ]
  },
  {
   "cell_type": "code",
   "execution_count": 22,
   "id": "7e47506e",
   "metadata": {},
   "outputs": [
    {
     "name": "stdout",
     "output_type": "stream",
     "text": [
      "[5, 6, 10]\n"
     ]
    }
   ],
   "source": [
    "strList = (\"apple\", \"banana\", \"strawberry\")\n",
    "print([len(i) for i in strList])"
   ]
  },
  {
   "cell_type": "code",
   "execution_count": 26,
   "id": "e9b8a676",
   "metadata": {},
   "outputs": [
    {
     "name": "stdout",
     "output_type": "stream",
     "text": [
      "['banana', 'strawberry', 'orange']\n"
     ]
    }
   ],
   "source": [
    "strList = (\"apple\", \"banana\", \"strawberry\", \"kiwi\", \"orange\")\n",
    "print([i for i in strList if len(i) > 5])"
   ]
  },
  {
   "cell_type": "code",
   "execution_count": 27,
   "id": "6a01f7bc",
   "metadata": {},
   "outputs": [
    {
     "name": "stdout",
     "output_type": "stream",
     "text": [
      "결과: 25\n",
      "결과: 30\n"
     ]
    }
   ],
   "source": [
    "numList = [10, 25, 30]\n",
    "\n",
    "# def 는 함수 - 매서드 (파이썬은 클래스 없이 매서드 만들기가 가능함)\n",
    "def get_bigger_than20(i):\n",
    "    return i > 20\n",
    "#filter() 함수는 두번째 인자로 넘어온 데이터 중에서 첫번째 인자로 넘어온 조건 함수를 만족하는 데이터만을 반환합니다.\n",
    "iterList = filter(get_bigger_than20, numList)\n",
    "for i in iterList:\n",
    "    print(\"결과: {0}\".format(i))"
   ]
  },
  {
   "cell_type": "code",
   "execution_count": 28,
   "id": "30ad51e9",
   "metadata": {},
   "outputs": [
    {
     "name": "stdout",
     "output_type": "stream",
     "text": [
      "결과: 25\n",
      "결과: 30\n"
     ]
    }
   ],
   "source": [
    "#lambda 매개변수 : 표현식\n",
    "iterList = filter(lambda i: i > 20, numList)\n",
    "for i in iterList:\n",
    "    print(\"결과: {0}\".format(i))"
   ]
  },
  {
   "cell_type": "code",
   "execution_count": 29,
   "id": "5bb1e1af",
   "metadata": {},
   "outputs": [
    {
     "name": "stdout",
     "output_type": "stream",
     "text": [
      "결과: 11\n",
      "결과: 12\n",
      "결과: 13\n"
     ]
    }
   ],
   "source": [
    "numList = [1, 2, 3]\n",
    "\n",
    "def add10(i):\n",
    "    return i + 10\n",
    "#list(map(함수, 리스트))\n",
    "#tuple(map(함수, 튜플))\n",
    "for i in map(add10, numList):\n",
    "    print(\"결과: {0}\".format(i))"
   ]
  },
  {
   "cell_type": "code",
   "execution_count": 30,
   "id": "05dd2d03",
   "metadata": {},
   "outputs": [
    {
     "name": "stdout",
     "output_type": "stream",
     "text": [
      "[11, 12, 13]\n"
     ]
    }
   ],
   "source": [
    "retList = list(map((lambda i: i + 10), numList))\n",
    "print(retList)"
   ]
  },
  {
   "cell_type": "code",
   "execution_count": 3,
   "id": "655be4c3",
   "metadata": {},
   "outputs": [
    {
     "name": "stdout",
     "output_type": "stream",
     "text": [
      "이름은 기본값\n",
      "이름은 일단은 이렇게 막 설정합니다\n",
      "이름은 일단은 이렇게 막 설정합니다\n"
     ]
    }
   ],
   "source": [
    "# Python 클래스\n",
    "class Person:\n",
    "    name = \"기본값\"\n",
    "    \n",
    "    # 파이썬에서 매서드는 반드시 첫 번째 인자에 self 를 적어줄 것!\n",
    "    def print(self):\n",
    "        print(\"이름은 {0}\".format(self.name))\n",
    "        \n",
    "p1 = Person()\n",
    "p1.print()\n",
    "\n",
    "p1.name = \"일단은 이렇게 막 설정합니다\"\n",
    "p1.print()\n",
    "Person.print(p1)"
   ]
  },
  {
   "cell_type": "code",
   "execution_count": 4,
   "id": "09b0b5e8",
   "metadata": {},
   "outputs": [
    {
     "name": "stdout",
     "output_type": "stream",
     "text": [
      "p1 이름:  일단은 이렇게 막 설정합니다\n",
      "p2 이름:  기본값\n"
     ]
    }
   ],
   "source": [
    "\n",
    "p2 = Person()\n",
    "\n",
    "print(\"p1 이름: \", p1.name)\n",
    "print(\"p2 이름: \", p2.name)"
   ]
  },
  {
   "cell_type": "code",
   "execution_count": 5,
   "id": "a40e76ca",
   "metadata": {},
   "outputs": [
    {
     "name": "stdout",
     "output_type": "stream",
     "text": [
      "p1 title:  파이썬은 이런게 됩니다.\n",
      "p2 title:  파이썬은 이런게 됩니다.\n",
      "Person title:  파이썬은 이런게 됩니다.\n"
     ]
    }
   ],
   "source": [
    "# 문법적으로는 가능하나 절대 해서는 안되는 행위\n",
    "Person.title = \"파이썬은 이런게 됩니다.\"\n",
    "print(\"p1 title: \", p1.title)\n",
    "print(\"p2 title: \", p2.title)\n",
    "print(\"Person title: \", Person.title)"
   ]
  },
  {
   "cell_type": "code",
   "execution_count": 6,
   "id": "426b100d",
   "metadata": {},
   "outputs": [
    {
     "name": "stdout",
     "output_type": "stream",
     "text": [
      "클래스 멤버 아님\n",
      "테스트 메시지\n"
     ]
    }
   ],
   "source": [
    "str1 = \"클래스 멤버 아님\"\n",
    "\n",
    "class NonSelfTest:\n",
    "    str1 = \"\"\n",
    "    \n",
    "    def setFunc(self, msg):\n",
    "        self.str1 = msg\n",
    "        \n",
    "    # self 를 사용해서 멤버 변수를 제어하라는 뜻\n",
    "    def print(self):\n",
    "        print(str1)\n",
    "        print(self.str1)\n",
    "        \n",
    "test = NonSelfTest()\n",
    "test.setFunc(\"테스트 메시지\")\n",
    "test.print()"
   ]
  },
  {
   "cell_type": "code",
   "execution_count": 9,
   "id": "3f975a17",
   "metadata": {},
   "outputs": [
    {
     "name": "stdout",
     "output_type": "stream",
     "text": [
      "클래스 생성! value = 333\n",
      "클래스 파괴!\n",
      "나는 여기서 나와요!\n"
     ]
    }
   ],
   "source": [
    "class Vehicles:\n",
    "    # 생성자\n",
    "    def __init__(self, value):\n",
    "        self.value = value\n",
    "        print(\"클래스 생성! value =\", value)\n",
    "        \n",
    "    # 소멸자 - 객체가 더 이상 사용 되지 않을 때 실행 됨\n",
    "    def __del__(self):\n",
    "        print(\"클래스 파괴!\")\n",
    "        \n",
    "def test():\n",
    "    v = Vehicles(333)\n",
    "    \n",
    "    \n",
    "    \n",
    "test()\n",
    "print('나는 여기서 나와요!')"
   ]
  },
  {
   "cell_type": "code",
   "execution_count": 10,
   "id": "dea65123",
   "metadata": {},
   "outputs": [
    {
     "name": "stdout",
     "output_type": "stream",
     "text": [
      "{'name': 'Gogosing', 'phoneNum': '045-607-1853'}\n",
      "{'name': 'Test', 'phoneNum': '406-708-3821', 'major': '컴퓨터공학', 'studentId': '7283491'}\n"
     ]
    }
   ],
   "source": [
    "class Person:\n",
    "    def __init__(self, name, phoneNum):\n",
    "        self.name = name\n",
    "        self.phoneNum = phoneNum\n",
    "        \n",
    "    def print(self):\n",
    "        print(\"이름은 {0}, 연락처 {1}\".format(self.name, self.phoneNum))\n",
    "        \n",
    "# Student(Person)\n",
    "# 파이썬은 상속을 아래와 같이\n",
    "# 상속받을클래스(상속할클래스)  형태로 작성합니다.\n",
    "class Student(Person):\n",
    "    def __init__(self, name, phoneNum, major, studentId):\n",
    "        self.name = name\n",
    "        self.phoneNum = phoneNum\n",
    "        self.major = major\n",
    "        self.studentId = studentId\n",
    "        \n",
    "p = Person(\"Gogosing\", \"045-607-1853\")\n",
    "s = Student(\"Test\", \"406-708-3821\", \"컴퓨터공학\", \"7283491\")\n",
    "\n",
    "# __dict__ 는 객체에 관련한 모든 정보를 출력함\n",
    "# Java 로 치면 toString() 형태라고 보면됨\n",
    "print(p.__dict__)\n",
    "print(s.__dict__)"
   ]
  },
  {
   "cell_type": "code",
   "execution_count": 11,
   "id": "71dbefa5",
   "metadata": {},
   "outputs": [
    {
     "name": "stdout",
     "output_type": "stream",
     "text": [
      "부모 클래스 - number: 7\n",
      "자식 클래스 - number: 3, number2: 7\n",
      "p2 title:  이건 어떻게 막을까 ?\n",
      "Child title:  이건 어떻게 막을까 ?\n",
      "자식 클래스 - number: 3, number2: 33\n"
     ]
    }
   ],
   "source": [
    "class Parent:\n",
    "    def __init__(self, number):\n",
    "        self.number = number\n",
    "        \n",
    "    def printMsg(self):\n",
    "        print(\"부모 클래스 - number:\", self.number)\n",
    "        \n",
    "class Child(Parent):\n",
    "    def __init__(self, number, number2):\n",
    "        # 상위의 생성자 호출\n",
    "        super(Child, self).__init__(number)\n",
    "        self.number2 = number2\n",
    "        \n",
    "    def printMsg(self):\n",
    "        print(\"자식 클래스 - number: {0}, number2: {1}\".format(self.number, self.number2))\n",
    "        \n",
    "p = Parent(7)\n",
    "p.printMsg()\n",
    "\n",
    "c = Child(3, 7)\n",
    "c.printMsg()\n",
    "\n",
    "# 이건 해서는 안되는 것\n",
    "Child.title = \"이건 어떻게 막을까 ?\"\n",
    "print(\"p2 title: \", c.title)\n",
    "print(\"Child title: \", Child.title)\n",
    "\n",
    "# 여전히 못막는거\n",
    "c.number2 = 33\n",
    "c.printMsg()"
   ]
  },
  {
   "cell_type": "code",
   "execution_count": 12,
   "id": "f0142729",
   "metadata": {},
   "outputs": [
    {
     "name": "stdout",
     "output_type": "stream",
     "text": [
      "3\n",
      "요래요래\n"
     ]
    },
    {
     "ename": "AttributeError",
     "evalue": "'DummyTestClass' object has no attribute '__var3'",
     "output_type": "error",
     "traceback": [
      "\u001b[1;31m---------------------------------------------------------------------------\u001b[0m",
      "\u001b[1;31mAttributeError\u001b[0m                            Traceback (most recent call last)",
      "Input \u001b[1;32mIn [12]\u001b[0m, in \u001b[0;36m<cell line: 12>\u001b[1;34m()\u001b[0m\n\u001b[0;32m     10\u001b[0m \u001b[38;5;28mprint\u001b[39m(dtc\u001b[38;5;241m.\u001b[39m_var2)\n\u001b[0;32m     11\u001b[0m \u001b[38;5;66;03m# __ 가 2개 붙으면 private\u001b[39;00m\n\u001b[1;32m---> 12\u001b[0m \u001b[38;5;28mprint\u001b[39m(\u001b[43mdtc\u001b[49m\u001b[38;5;241;43m.\u001b[39;49m\u001b[43m__var3\u001b[49m)\n",
      "\u001b[1;31mAttributeError\u001b[0m: 'DummyTestClass' object has no attribute '__var3'"
     ]
    }
   ],
   "source": [
    "class DummyTestClass:\n",
    "    def __init__(self):\n",
    "        self.var1 = 3\n",
    "        self._var2 = '요래요래'\n",
    "        self.__var3 = '방어'\n",
    "        \n",
    "dtc = DummyTestClass()\n",
    "\n",
    "print(dtc.var1)\n",
    "print(dtc._var2)\n",
    "# __ 가 2개 붙으면 private\n",
    "print(dtc.__var3)"
   ]
  },
  {
   "cell_type": "code",
   "execution_count": 13,
   "id": "d20d31fc",
   "metadata": {},
   "outputs": [
    {
     "name": "stdout",
     "output_type": "stream",
     "text": [
      "방어\n"
     ]
    }
   ],
   "source": [
    "# 이와 같이 _클래스명__private변수명으로 볼 수 있다.\n",
    "print(dtc._DummyTestClass__var3)"
   ]
  },
  {
   "cell_type": "code",
   "execution_count": null,
   "id": "1f23271c",
   "metadata": {},
   "outputs": [],
   "source": []
  },
  {
   "cell_type": "code",
   "execution_count": null,
   "id": "4ee675d5",
   "metadata": {},
   "outputs": [],
   "source": []
  },
  {
   "cell_type": "code",
   "execution_count": null,
   "id": "7bc9c3b5",
   "metadata": {},
   "outputs": [],
   "source": []
  },
  {
   "cell_type": "code",
   "execution_count": null,
   "id": "b86fe67b",
   "metadata": {},
   "outputs": [],
   "source": []
  },
  {
   "cell_type": "code",
   "execution_count": null,
   "id": "855f5bb1",
   "metadata": {},
   "outputs": [],
   "source": []
  },
  {
   "cell_type": "code",
   "execution_count": null,
   "id": "f3e2bacd",
   "metadata": {},
   "outputs": [],
   "source": []
  },
  {
   "cell_type": "code",
   "execution_count": null,
   "id": "5c045e2a",
   "metadata": {},
   "outputs": [],
   "source": []
  },
  {
   "cell_type": "code",
   "execution_count": null,
   "id": "03ba2550",
   "metadata": {},
   "outputs": [],
   "source": []
  },
  {
   "cell_type": "code",
   "execution_count": null,
   "id": "8cb0428e",
   "metadata": {},
   "outputs": [],
   "source": []
  },
  {
   "cell_type": "code",
   "execution_count": null,
   "id": "ecb1359b",
   "metadata": {},
   "outputs": [],
   "source": []
  },
  {
   "cell_type": "code",
   "execution_count": null,
   "id": "1639f0cd",
   "metadata": {},
   "outputs": [],
   "source": []
  },
  {
   "cell_type": "code",
   "execution_count": null,
   "id": "29819245",
   "metadata": {},
   "outputs": [],
   "source": []
  },
  {
   "cell_type": "code",
   "execution_count": null,
   "id": "686815cc",
   "metadata": {},
   "outputs": [],
   "source": []
  },
  {
   "cell_type": "code",
   "execution_count": null,
   "id": "edd9fd5a",
   "metadata": {},
   "outputs": [],
   "source": []
  },
  {
   "cell_type": "code",
   "execution_count": null,
   "id": "f9131b93",
   "metadata": {},
   "outputs": [],
   "source": []
  },
  {
   "cell_type": "code",
   "execution_count": null,
   "id": "7c6eb365",
   "metadata": {},
   "outputs": [],
   "source": []
  },
  {
   "cell_type": "code",
   "execution_count": null,
   "id": "96909640",
   "metadata": {},
   "outputs": [],
   "source": []
  },
  {
   "cell_type": "code",
   "execution_count": null,
   "id": "4c886fa0",
   "metadata": {},
   "outputs": [],
   "source": []
  },
  {
   "cell_type": "code",
   "execution_count": null,
   "id": "454837b7",
   "metadata": {},
   "outputs": [],
   "source": []
  },
  {
   "cell_type": "code",
   "execution_count": null,
   "id": "eea2c34f",
   "metadata": {},
   "outputs": [],
   "source": []
  },
  {
   "cell_type": "code",
   "execution_count": null,
   "id": "01a90cca",
   "metadata": {},
   "outputs": [],
   "source": []
  },
  {
   "cell_type": "code",
   "execution_count": null,
   "id": "1b2ba107",
   "metadata": {},
   "outputs": [],
   "source": []
  },
  {
   "cell_type": "code",
   "execution_count": null,
   "id": "6805ca37",
   "metadata": {},
   "outputs": [],
   "source": []
  },
  {
   "cell_type": "code",
   "execution_count": null,
   "id": "6d8875b4",
   "metadata": {},
   "outputs": [],
   "source": []
  },
  {
   "cell_type": "code",
   "execution_count": null,
   "id": "0b3f5e26",
   "metadata": {},
   "outputs": [],
   "source": []
  },
  {
   "cell_type": "code",
   "execution_count": null,
   "id": "db9775fd",
   "metadata": {},
   "outputs": [],
   "source": []
  },
  {
   "cell_type": "code",
   "execution_count": null,
   "id": "33d4d965",
   "metadata": {},
   "outputs": [],
   "source": []
  },
  {
   "cell_type": "code",
   "execution_count": null,
   "id": "a502ed1e",
   "metadata": {},
   "outputs": [],
   "source": []
  },
  {
   "cell_type": "code",
   "execution_count": null,
   "id": "41a437a5",
   "metadata": {},
   "outputs": [],
   "source": []
  },
  {
   "cell_type": "code",
   "execution_count": null,
   "id": "1d62138d",
   "metadata": {},
   "outputs": [],
   "source": []
  },
  {
   "cell_type": "code",
   "execution_count": null,
   "id": "3bb2ead0",
   "metadata": {},
   "outputs": [],
   "source": []
  },
  {
   "cell_type": "code",
   "execution_count": null,
   "id": "99f44eb1",
   "metadata": {},
   "outputs": [],
   "source": []
  },
  {
   "cell_type": "code",
   "execution_count": null,
   "id": "fe66d891",
   "metadata": {},
   "outputs": [],
   "source": []
  },
  {
   "cell_type": "code",
   "execution_count": 5,
   "id": "9cd6ec12",
   "metadata": {},
   "outputs": [
    {
     "name": "stdout",
     "output_type": "stream",
     "text": [
      "{'apple': 'red', 'banana': 'yellow'}\n",
      "red\n",
      "{'apple': 'red', 'banana': 'yellow', 'cherry': 'red'}\n",
      "{'apple': 'green', 'banana': 'yellow', 'cherry': 'red'}\n",
      "color.items()\n",
      "('apple', 'green')\n",
      "color.items()\n",
      "('banana', 'yellow')\n",
      "color.items()\n",
      "('cherry', 'red')\n",
      "color.items() - k,v\n",
      "apple green\n",
      "color.items() - k,v\n",
      "banana yellow\n",
      "color.items() - k,v\n",
      "cherry red\n",
      "color.keys()\n",
      "apple\n",
      "color.keys()\n",
      "banana\n",
      "color.keys()\n",
      "cherry\n",
      "color.values()\n",
      "green\n",
      "color.values()\n",
      "yellow\n",
      "color.values()\n",
      "red\n",
      "<class 'dict_keys'>\n",
      "['apple', 'banana', 'cherry']\n"
     ]
    }
   ],
   "source": [
    "color = {\"apple\": \"red\", \"banana\": \"yellow\" }\n",
    "print(color)\n",
    "print(color[\"apple\"])\n",
    "\n",
    "color[\"cherry\"] = \"red\"\n",
    "print(color)\n",
    "\n",
    "color[\"apple\"] = \"green\"\n",
    "print(color)\n",
    "\n",
    "for c in color.items():\n",
    "    print(\"color.items()\")\n",
    "    print(c)\n",
    "\n",
    "for k,v in color.items():\n",
    "    print(\"color.items() - k,v\")\n",
    "    print(k,v)\n",
    "    \n",
    "for k in color.keys():\n",
    "    print(\"color.keys()\")\n",
    "    print(k)\n",
    "\n",
    "for v in color.values():\n",
    "    print(\"color.values()\")\n",
    "    print(v)\n",
    "\n",
    "print(type(color.keys()))\n",
    "print(list(color.keys()))"
   ]
  },
  {
   "cell_type": "code",
   "execution_count": null,
   "id": "edfa5818",
   "metadata": {},
   "outputs": [],
   "source": []
  }
 ],
 "metadata": {
  "kernelspec": {
   "display_name": "Python 3 (ipykernel)",
   "language": "python",
   "name": "python3"
  },
  "language_info": {
   "codemirror_mode": {
    "name": "ipython",
    "version": 3
   },
   "file_extension": ".py",
   "mimetype": "text/x-python",
   "name": "python",
   "nbconvert_exporter": "python",
   "pygments_lexer": "ipython3",
   "version": "3.9.12"
  }
 },
 "nbformat": 4,
 "nbformat_minor": 5
}
