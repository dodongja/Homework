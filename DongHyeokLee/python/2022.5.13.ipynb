{
 "cells": [
  {
   "cell_type": "code",
   "execution_count": 1,
   "id": "4d5a884a",
   "metadata": {},
   "outputs": [
    {
     "name": "stdout",
     "output_type": "stream",
     "text": [
      "<function times at 0x00000108B61404C0>\n",
      "100\n"
     ]
    }
   ],
   "source": [
    "# 함수(매서드) 만들기\n",
    "# 파이썬은 저번에도 봤듯이 클래스 없이 매서드만 만들 수도 있음\n",
    "def times(a, b):\n",
    "    return a * b\n",
    "\n",
    "# times 에서 나타나는 이상한 숫자의 정체는 무엇일까 ?\n",
    "# 객체(매서드)의 메모리 주소값\n",
    "print(times)\n",
    "print(times(10, 10))"
   ]
  },
  {
   "cell_type": "code",
   "execution_count": 2,
   "id": "dd7498f9",
   "metadata": {},
   "outputs": [
    {
     "name": "stdout",
     "output_type": "stream",
     "text": [
      "100\n"
     ]
    }
   ],
   "source": [
    "pointerOfFunction = times\n",
    "res = pointerOfFunction(10, 10)\n",
    "print(res)"
   ]
  },
  {
   "cell_type": "code",
   "execution_count": 3,
   "id": "dce4f3a2",
   "metadata": {},
   "outputs": [
    {
     "name": "stdout",
     "output_type": "stream",
     "text": [
      "preList x: A\n",
      "preList x: p\n",
      "postList x: p\n",
      "preList x: p\n",
      "postList x: p\n",
      "preList x: l\n",
      "preList x: e\n",
      "postList x: e\n",
      "['p', 'p', 'e']\n",
      "preList x: A\n",
      "postList x: A\n",
      "preList x: p\n",
      "preList x: p\n",
      "preList x: l\n",
      "preList x: e\n",
      "['A']\n"
     ]
    }
   ],
   "source": [
    "def intersect(preList, postList):\n",
    "    retList = []\n",
    "    \n",
    "    for x in preList:\n",
    "        print(\"preList x:\", x)\n",
    "        if x in postList:\n",
    "            print(\"postList x:\", x)\n",
    "            retList.append(x)\n",
    "            \n",
    "    return retList\n",
    "\n",
    "list1 = \"Apple\"\n",
    "list2 = \"grape\"\n",
    "\n",
    "print(intersect(list1, list2))\n",
    "print(intersect(list1, ['H', 'A', 'M']))"
   ]
  },
  {
   "cell_type": "code",
   "execution_count": 1,
   "id": "225120c8",
   "metadata": {},
   "outputs": [
    {
     "name": "stdout",
     "output_type": "stream",
     "text": [
      "(7, 3)\n"
     ]
    }
   ],
   "source": [
    "def swap(x, y):\n",
    "    return y, x\n",
    "\n",
    "# 튜플은 왜 사용할까 ? java - final, c - const\n",
    "# 값의 변경을 방지하기 위해 (immutable) - 불변성!\n",
    "# 이 녀석은 궁극적으로 setter 를 쓰지말라와 연결됨\n",
    "# 해당 내용은 결국 협업하는 관점까지도 연결이 됨\n",
    "#setter의 문제 - 모든 사람이 접근이 가능하다 -> 변경이 가능하다->  \n",
    "#ex)setter 남발 회원정보 들어가야하는 부분에 다른게 들어감-> 로그인 안 됌\n",
    "#값을 return 할 때는 고정된 값을 return 하는게 좋음\n",
    "print(swap(3, 7))"
   ]
  },
  {
   "cell_type": "code",
   "execution_count": 2,
   "id": "1c2e8f67",
   "metadata": {},
   "outputs": [
    {
     "name": "stdout",
     "output_type": "stream",
     "text": [
      "77\n",
      "33\n"
     ]
    }
   ],
   "source": [
    "a, b = swap(33, 77)\n",
    "print(a)\n",
    "print(b)"
   ]
  },
  {
   "cell_type": "code",
   "execution_count": 3,
   "id": "5862f326",
   "metadata": {},
   "outputs": [
    {
     "name": "stdout",
     "output_type": "stream",
     "text": [
      "(777, 333)\n",
      "<class 'tuple'>\n"
     ]
    }
   ],
   "source": [
    "x = swap(333, 777)\n",
    "print(x)\n",
    "print(type(x))"
   ]
  },
  {
   "cell_type": "code",
   "execution_count": 4,
   "id": "e1df7112",
   "metadata": {},
   "outputs": [
    {
     "name": "stdout",
     "output_type": "stream",
     "text": [
      "30\n"
     ]
    }
   ],
   "source": [
    "a = 10\n",
    "b = 20\n",
    "\n",
    "def sum_test(x, y):\n",
    "    return x + y\n",
    "\n",
    "print(sum_test(a, b))"
   ]
  },
  {
   "cell_type": "code",
   "execution_count": 5,
   "id": "abf46b39",
   "metadata": {},
   "outputs": [
    {
     "name": "stdout",
     "output_type": "stream",
     "text": [
      "11\n",
      "10\n"
     ]
    }
   ],
   "source": [
    "x = 10\n",
    "\n",
    "def sum_test2(x, y):\n",
    "    x = 1\n",
    "    return x + y\n",
    "\n",
    "print(sum_test2(x, x))\n",
    "print(x)"
   ]
  },
  {
   "cell_type": "code",
   "execution_count": 6,
   "id": "672c99c3",
   "metadata": {},
   "outputs": [
    {
     "name": "stdout",
     "output_type": "stream",
     "text": [
      "['J', 'A', 'M']\n",
      "['H', 'A', 'M']\n"
     ]
    }
   ],
   "source": [
    "def change(x):\n",
    "    x[0] = 'H'\n",
    "    \n",
    "wordList = ['J', 'A', 'M']\n",
    "print(wordList)\n",
    "\n",
    "change(wordList)\n",
    "print(wordList)"
   ]
  },
  {
   "cell_type": "code",
   "execution_count": 8,
   "id": "9fa8b8f0",
   "metadata": {},
   "outputs": [
    {
     "name": "stdout",
     "output_type": "stream",
     "text": [
      "['J', 'A', 'M']\n",
      "['H', 'A', 'M']\n",
      "['J', 'A', 'M']\n"
     ]
    }
   ],
   "source": [
    "def change2(x):\n",
    "    # 아래와 같은 방식의 복사는 서로 다른 메모리를 참조함\n",
    "    # 다른 객체가 되었음 (값은 복사됨)\n",
    "    x = x[:]\n",
    "    # 데이터는 바꾸지 않고 특정 가공을 하거나 처리를 해야하는 상황\n",
    "    x[0] = 'H'\n",
    "    print(x)\n",
    "    \n",
    "wordList = ['J', 'A', 'M']\n",
    "print(wordList)\n",
    "\n",
    "change2(wordList)\n",
    "print(wordList)"
   ]
  },
  {
   "cell_type": "code",
   "execution_count": 9,
   "id": "95a84ebb",
   "metadata": {},
   "outputs": [
    {
     "name": "stdout",
     "output_type": "stream",
     "text": [
      "1\n",
      "10\n",
      "7\n"
     ]
    }
   ],
   "source": [
    "glob = 1\n",
    "print(glob)\n",
    "\n",
    "def globScope(x):\n",
    "    global glob\n",
    "    glob = 7\n",
    "    return glob + x\n",
    "\n",
    "print(globScope(3))\n",
    "print(glob)"
   ]
  },
  {
   "cell_type": "code",
   "execution_count": 10,
   "id": "d33338b5",
   "metadata": {},
   "outputs": [
    {
     "name": "stdout",
     "output_type": "stream",
     "text": [
      "6\n"
     ]
    }
   ],
   "source": [
    "\n",
    "g = lambda x, y: x * y\n",
    "print(g(2, 3))"
   ]
  },
  {
   "cell_type": "code",
   "execution_count": 14,
   "id": "ce9acb19",
   "metadata": {},
   "outputs": [
    {
     "name": "stdout",
     "output_type": "stream",
     "text": [
      "11\n",
      "4\n",
      " C 드라이브의 볼륨에는 이름이 없습니다.\n",
      " 볼륨 일련 번호: 288E-A533\n",
      "\n",
      " C:\\khweb19\\Homework\\DongHyeokLee\\python 디렉터리\n",
      "\n",
      "2022-05-17  오후 12:40    <DIR>          .\n",
      "2022-05-17  오후 12:40    <DIR>          ..\n",
      "2022-05-16  오후 03:43    <DIR>          .ipynb_checkpoints\n",
      "2022-05-16  오후 03:07            21,601 2022.5.12.ipynb\n",
      "2022-05-17  오후 12:40             8,691 2022.5.13.ipynb\n",
      "2022-05-16  오후 05:52    <DIR>          mysql\n",
      "2022-05-17  오후 12:41                16 test.txt\n",
      "2022-05-16  오후 06:19            11,338 Untitled.ipynb\n",
      "               4개 파일              41,646 바이트\n",
      "               4개 디렉터리  164,061,749,248 바이트 남음\n"
     ]
    }
   ],
   "source": [
    " \n",
    "# 파일 I/O 처리\n",
    "f = open('test.txt', 'w') # 'w' - 쓰기모드\n",
    "print(f.write('EDDI\\nPython')) # \\n newLine\n",
    "print(f.write('hihi'))\n",
    "f.close()\n",
    "\n",
    "# 윈도우의 경우\n",
    "!dir\n",
    "\n",
    "# 리눅스 or MaC\n",
    "#!ls"
   ]
  },
  {
   "cell_type": "code",
   "execution_count": 15,
   "id": "8bf8866c",
   "metadata": {},
   "outputs": [
    {
     "name": "stdout",
     "output_type": "stream",
     "text": [
      "11\n",
      "4\n",
      " C 드라이브의 볼륨에는 이름이 없습니다.\n",
      " 볼륨 일련 번호: 288E-A533\n",
      "\n",
      " C:\\khweb19\\Homework\\DongHyeokLee\\python 디렉터리\n",
      "\n",
      "2022-05-17  오후 12:44    <DIR>          .\n",
      "2022-05-17  오후 12:44    <DIR>          ..\n",
      "2022-05-16  오후 03:43    <DIR>          .ipynb_checkpoints\n",
      "2022-05-16  오후 03:07            21,601 2022.5.12.ipynb\n",
      "2022-05-17  오후 12:42             9,037 2022.5.13.ipynb\n",
      "2022-05-16  오후 05:52    <DIR>          mysql\n",
      "2022-05-17  오후 12:41                16 test.txt\n",
      "2022-05-17  오후 12:44                16 test2.txt\n",
      "2022-05-16  오후 06:19            11,338 Untitled.ipynb\n",
      "               5개 파일              42,008 바이트\n",
      "               4개 디렉터리  164,883,386,368 바이트 남음\n"
     ]
    }
   ],
   "source": [
    "# 파일 I/O 처리\n",
    "f = open('test2.txt', 'w') # 'w' - 쓰기모드\n",
    "print(f.write('EDDI\\nPython')) # \\n newLine\n",
    "print(f.write('hihi'))\n",
    "f.close()\n",
    "\n",
    "# 윈도우의 경우\n",
    "!dir\n",
    "\n",
    "# 리눅스 or MaC\n",
    "#!ls"
   ]
  },
  {
   "cell_type": "code",
   "execution_count": 18,
   "id": "c0496747",
   "metadata": {},
   "outputs": [
    {
     "name": "stdout",
     "output_type": "stream",
     "text": [
      "EDDI\n",
      "Pythonhihi\n",
      "EDDI\n",
      "Pythonhihi\n"
     ]
    }
   ],
   "source": [
    "# 잘 만들었는지 확인\n",
    "# 윈도우\n",
    "!type test.txt\n",
    "!type test2.txt\n",
    "\n",
    "# 리눅스 or MaC\n",
    "#!cat test.txt"
   ]
  },
  {
   "cell_type": "code",
   "execution_count": 19,
   "id": "e5efb0d2",
   "metadata": {},
   "outputs": [
    {
     "name": "stdout",
     "output_type": "stream",
     "text": [
      "EDDI\n",
      "Pythonhihi\n",
      "True\n"
     ]
    }
   ],
   "source": [
    "f = open('test.txt')\n",
    "print(f.read())\n",
    "f.close()\n",
    "print(f.closed)"
   ]
  },
  {
   "cell_type": "code",
   "execution_count": 20,
   "id": "cace7531",
   "metadata": {},
   "outputs": [
    {
     "name": "stdout",
     "output_type": "stream",
     "text": [
      "['EDDI\\n', 'Pythonhihi']\n",
      "False\n",
      "True\n"
     ]
    }
   ],
   "source": [
    "#개발자 실수로 close를 안하는 경우가 있음\n",
    "#그래서 with를 사용해주면 알아서 파일이 닫힘\n",
    "with open('test.txt') as f:\n",
    "    print(f.readlines())\n",
    "    print(f.closed)\n",
    "    \n",
    "print(f.closed)"
   ]
  },
  {
   "cell_type": "code",
   "execution_count": 43,
   "id": "c1e9a670",
   "metadata": {},
   "outputs": [
    {
     "name": "stdout",
     "output_type": "stream",
     "text": [
      "['red', 'green', 'blue']\n"
     ]
    }
   ],
   "source": [
    "colors = ['red', 'green', 'blue']\n",
    "print(colors)\n",
    "\n",
    "def check_colors():\n",
    "    if 'colors' in globals():\n",
    "        print(\"True\")\n",
    "    else:\n",
    "        print(\"False\")"
   ]
  },
  {
   "cell_type": "code",
   "execution_count": 44,
   "id": "e206dd08",
   "metadata": {},
   "outputs": [
    {
     "name": "stdout",
     "output_type": "stream",
     "text": [
      "['red', 'green', 'blue']\n",
      "True\n"
     ]
    }
   ],
   "source": [
    "import pickle # 파이썬 object를 저장하는 역할을 가지고 있음\n",
    "\n",
    "# write byte로 문자가 아닌 데이터 저장시 활용 wb\n",
    "f = open('colors', 'wb')\n",
    "pickle.dump(colors, f) #key값을 pickle에 저장하면 web상에 key값이 바로 들어 나지 않아서 보안상으로 좋음\n",
    "f.close()\n",
    "\n",
    "print(colors)\n",
    "\n",
    "check_colors()"
   ]
  },
  {
   "cell_type": "code",
   "execution_count": 49,
   "id": "cb08f13d",
   "metadata": {},
   "outputs": [
    {
     "name": "stdout",
     "output_type": "stream",
     "text": [
      "['red', 'green', 'blue']\n",
      "False\n"
     ]
    }
   ],
   "source": [
    "# colors 정보를 증발시킴\n",
    "print(colors)\n",
    "del colors\n",
    "\n",
    "check_colors()"
   ]
  },
  {
   "cell_type": "code",
   "execution_count": 48,
   "id": "47934a96",
   "metadata": {},
   "outputs": [
    {
     "name": "stdout",
     "output_type": "stream",
     "text": [
      "['red', 'green', 'blue']\n"
     ]
    }
   ],
   "source": [
    "print(colors)"
   ]
  },
  {
   "cell_type": "code",
   "execution_count": 47,
   "id": "499819fd",
   "metadata": {},
   "outputs": [
    {
     "name": "stdout",
     "output_type": "stream",
     "text": [
      "['red', 'green', 'blue']\n",
      "True\n"
     ]
    }
   ],
   "source": [
    "f = open('colors', 'rb') #byte단위기 때문에 rb로 읽어야함 read byte\n",
    "colors = pickle.load(f)\n",
    "f.close()\n",
    "\n",
    "print(colors)\n",
    "check_colors()"
   ]
  },
  {
   "cell_type": "code",
   "execution_count": 38,
   "id": "49b274ba",
   "metadata": {},
   "outputs": [
    {
     "data": {
      "text/plain": [
       "{'__name__': '__main__',\n",
       " '__doc__': 'Automatically created module for IPython interactive environment',\n",
       " '__package__': None,\n",
       " '__loader__': None,\n",
       " '__spec__': None,\n",
       " '__builtin__': <module 'builtins' (built-in)>,\n",
       " '__builtins__': <module 'builtins' (built-in)>,\n",
       " '_ih': ['',\n",
       "  'def swap(x, y):\\n    return y, x\\n\\n# 튜플은 왜 사용할까 ? java - final, c - const\\n# 값의 변경을 방지하기 위해 (immutable) - 불변성!\\n# 이 녀석은 궁극적으로 setter 를 쓰지말라와 연결됨\\n# 해당 내용은 결국 협업하는 관점까지도 연결이 됨\\nprint(swap(3, 7))',\n",
       "  'a, b = swap(33, 77)\\nprint(a)\\nprint(b)',\n",
       "  'x = swap(333, 777)\\nprint(x)\\nprint(type(x))',\n",
       "  'a = 10\\nb = 20\\n\\ndef sum_test(x, y):\\n    return x + y\\n\\nprint(sum_test(a, b))',\n",
       "  'x = 10\\n\\ndef sum_test2(x, y):\\n    x = 1\\n    return x + y\\n\\nprint(sum_test2(x, x))\\nprint(x)',\n",
       "  \"def change(x):\\n    x[0] = 'H'\\n    \\nwordList = ['J', 'A', 'M']\\nprint(wordList)\\n\\nchange(wordList)\\nprint(wordList)\",\n",
       "  \"def change2(x):\\n    # 아래와 같은 방식의 복사는 서로 다른 메모리를 참조함\\n    # 다른 객체가 되었음 (값은 복사됨)\\n    x = x[:]\\n    # 데이터는 바꾸지 않고 특정 가공을 하거나 처리를 해야하는 상황\\n    x[0] = 'H'\\n    \\nwordList = ['J', 'A', 'M']\\nprint(wordList)\\n\\nchange2(wordList)\\nprint(wordList)\",\n",
       "  \"def change2(x):\\n    # 아래와 같은 방식의 복사는 서로 다른 메모리를 참조함\\n    # 다른 객체가 되었음 (값은 복사됨)\\n    x = x[:]\\n    # 데이터는 바꾸지 않고 특정 가공을 하거나 처리를 해야하는 상황\\n    x[0] = 'H'\\n    print(x)\\n    \\nwordList = ['J', 'A', 'M']\\nprint(wordList)\\n\\nchange2(wordList)\\nprint(wordList)\",\n",
       "  'glob = 1\\nprint(glob)\\n\\ndef globScope(x):\\n    global glob\\n    glob = 7\\n    return glob + x\\n\\nprint(globScope(3))\\nprint(glob)',\n",
       "  'g = lambda x, y: x * y\\nprint(g(2, 3))',\n",
       "  \"# 파일 I/O 처리\\nf = open('test.txt', 'w') # 'w' - 쓰기모드\\nprint(f.write('EDDI\\\\nPython'))\\nf.close()\\n\\n# 윈도우의 경우\\nget_ipython().system('dir')\\n\\n# 리눅스 or MaC\\n#!ls\",\n",
       "  \"# 파일 I/O 처리\\nf = open('test.txt', 'w') # 'w' - 쓰기모드\\nprint(f.write('EDDI\\\\nPython'))\\nprint(f.write('hihi'))\\nf.close()\\n\\n# 윈도우의 경우\\nget_ipython().system('dir')\\n\\n# 리눅스 or MaC\\n#!ls\",\n",
       "  \"# 파일 I/O 처리\\nf = open('test.txt', 'w') # 'w' - 쓰기모드\\nprint(f.write('EDDI\\\\nPython')) # \\\\n newLine\\nprint(f.write('hihi'))\\nf.close()\\n\\n# 윈도우의 경우\\n#!dir\\n\\n# 리눅스 or MaC\\n#!ls\",\n",
       "  \"# 파일 I/O 처리\\nf = open('test.txt', 'w') # 'w' - 쓰기모드\\nprint(f.write('EDDI\\\\nPython')) # \\\\n newLine\\nprint(f.write('hihi'))\\nf.close()\\n\\n# 윈도우의 경우\\nget_ipython().system('dir')\\n\\n# 리눅스 or MaC\\n#!ls\",\n",
       "  \"# 파일 I/O 처리\\nf = open('test2.txt', 'w') # 'w' - 쓰기모드\\nprint(f.write('EDDI\\\\nPython')) # \\\\n newLine\\nprint(f.write('hihi'))\\nf.close()\\n\\n# 윈도우의 경우\\nget_ipython().system('dir')\\n\\n# 리눅스 or MaC\\n#!ls\",\n",
       "  \"# 잘 만들었는지 확인\\n# 윈도우\\nget_ipython().system('type test.txt')\\n\\n# 리눅스 or MaC\\n#!cat test.txt\",\n",
       "  \"# 잘 만들었는지 확인\\n# 윈도우\\nget_ipython().system('type test.txt')\\nget_ipython().system('type test2.tex')\\n\\n# 리눅스 or MaC\\n#!cat test.txt\",\n",
       "  \"# 잘 만들었는지 확인\\n# 윈도우\\nget_ipython().system('type test.txt')\\nget_ipython().system('type test2.txt')\\n\\n# 리눅스 or MaC\\n#!cat test.txt\",\n",
       "  \"f = open('test.txt')\\nprint(f.read())\\nf.close()\\nprint(f.closed)\",\n",
       "  \"with open('test.txt') as f:\\n    print(f.readlines())\\n    print(f.closed)\\n    \\nprint(f.closed)\",\n",
       "  'colors = [\\'red\\', \\'green\\', \\'blue\\']\\nprint(colors)\\n\\ndef check_colors():\\n    if \\'colors\\' in globals():\\n        print(\"True\")\\n    else:\\n        print(\"False\")',\n",
       "  \"import pickle\\n\\n# write byte로 문자가 아닌 데이터 저장시 활용\\nf = open('colors', 'wb')\\npickle.dump(colors, f)\\nf.close()\\n\\ncheck_colors()\",\n",
       "  '# colors 정보를 증발시킴\\ndel colors\\n\\ncheck_colors()',\n",
       "  'global colors = [\\'red\\', \\'green\\', \\'blue\\']\\nprint(colors)\\n\\ndef check_colors():\\n    if \\'colors\\' in globals():\\n        print(\"True\")\\n    else:\\n        print(\"False\")',\n",
       "  'colors = [\\'red\\', \\'green\\', \\'blue\\']\\nprint(colors)\\n\\ndef check_colors():\\n    if \\'colors\\' in globals():\\n        print(\"True\")\\n    else:\\n        print(\"False\")',\n",
       "  \"import pickle # 파이썬 object를 저장하는 역할을 가지고 있음\\n\\n# write byte로 문자가 아닌 데이터 저장시 활용 wb\\nf = open('colors', 'wb')\\npickle.dump(colors, f)\\nf.close()\\n\\ncheck_colors()\",\n",
       "  '# colors 정보를 증발시킴\\ndel colors\\n\\ncheck_colors()',\n",
       "  \"f = open('colors', 'rb')\\ncolors = pickle.load(f)\\nf.close()\\n\\nprint(colors)\\ncheck_colors()\",\n",
       "  \"import pickle # 파이썬 object를 저장하는 역할을 가지고 있음\\n\\n# write byte로 문자가 아닌 데이터 저장시 활용 wb\\nf = open('colors', 'wb')\\npickle.dump(colors, f)\\nf.close()\\n\\ncheck_colors()\",\n",
       "  \"import pickle # 파이썬 object를 저장하는 역할을 가지고 있음\\n\\n# write byte로 문자가 아닌 데이터 저장시 활용 wb\\nf = open('colors', 'wb')\\npickle.dump(colors, f)\\nf.close()\\n\\nprint(clolors)\\n\\ncheck_colors()\",\n",
       "  \"import pickle # 파이썬 object를 저장하는 역할을 가지고 있음\\n\\n# write byte로 문자가 아닌 데이터 저장시 활용 wb\\nf = open('colors', 'wb')\\npickle.dump(colors, f)\\nf.close()\\n\\nprint(colors)\\n\\ncheck_colors()\",\n",
       "  '# colors 정보를 증발시킴\\ndel colors\\nprint(colors)\\n\\ncheck_colors()',\n",
       "  '# colors 정보를 증발시킴\\nprint(colors)\\ndel colors\\n\\n\\ncheck_colors()',\n",
       "  \"import pickle # 파이썬 object를 저장하는 역할을 가지고 있음\\n\\n# write byte로 문자가 아닌 데이터 저장시 활용 wb\\nf = open('colors', 'wb')\\npickle.dump(colors, f)\\nf.close()\\n\\nprint(colors)\\n\\ncheck_colors()\",\n",
       "  'colors = [\\'red\\', \\'green\\', \\'blue\\']\\nprint(colors)\\n\\ndef check_colors():\\n    if \\'colors\\' in globals():\\n        print(\"True\")\\n    else:\\n        print(\"False\")',\n",
       "  \"import pickle # 파이썬 object를 저장하는 역할을 가지고 있음\\n\\n# write byte로 문자가 아닌 데이터 저장시 활용 wb\\nf = open('colors', 'wb')\\npickle.dump(colors, f)\\nf.close()\\n\\nprint(colors)\\n\\ncheck_colors()\",\n",
       "  '# colors 정보를 증발시킴\\nprint(colors)\\ndel colors\\n\\n\\ncheck_colors()',\n",
       "  'globals()'],\n",
       " '_oh': {},\n",
       " '_dh': [WindowsPath('C:/khweb19/Homework/DongHyeokLee/python')],\n",
       " 'In': ['',\n",
       "  'def swap(x, y):\\n    return y, x\\n\\n# 튜플은 왜 사용할까 ? java - final, c - const\\n# 값의 변경을 방지하기 위해 (immutable) - 불변성!\\n# 이 녀석은 궁극적으로 setter 를 쓰지말라와 연결됨\\n# 해당 내용은 결국 협업하는 관점까지도 연결이 됨\\nprint(swap(3, 7))',\n",
       "  'a, b = swap(33, 77)\\nprint(a)\\nprint(b)',\n",
       "  'x = swap(333, 777)\\nprint(x)\\nprint(type(x))',\n",
       "  'a = 10\\nb = 20\\n\\ndef sum_test(x, y):\\n    return x + y\\n\\nprint(sum_test(a, b))',\n",
       "  'x = 10\\n\\ndef sum_test2(x, y):\\n    x = 1\\n    return x + y\\n\\nprint(sum_test2(x, x))\\nprint(x)',\n",
       "  \"def change(x):\\n    x[0] = 'H'\\n    \\nwordList = ['J', 'A', 'M']\\nprint(wordList)\\n\\nchange(wordList)\\nprint(wordList)\",\n",
       "  \"def change2(x):\\n    # 아래와 같은 방식의 복사는 서로 다른 메모리를 참조함\\n    # 다른 객체가 되었음 (값은 복사됨)\\n    x = x[:]\\n    # 데이터는 바꾸지 않고 특정 가공을 하거나 처리를 해야하는 상황\\n    x[0] = 'H'\\n    \\nwordList = ['J', 'A', 'M']\\nprint(wordList)\\n\\nchange2(wordList)\\nprint(wordList)\",\n",
       "  \"def change2(x):\\n    # 아래와 같은 방식의 복사는 서로 다른 메모리를 참조함\\n    # 다른 객체가 되었음 (값은 복사됨)\\n    x = x[:]\\n    # 데이터는 바꾸지 않고 특정 가공을 하거나 처리를 해야하는 상황\\n    x[0] = 'H'\\n    print(x)\\n    \\nwordList = ['J', 'A', 'M']\\nprint(wordList)\\n\\nchange2(wordList)\\nprint(wordList)\",\n",
       "  'glob = 1\\nprint(glob)\\n\\ndef globScope(x):\\n    global glob\\n    glob = 7\\n    return glob + x\\n\\nprint(globScope(3))\\nprint(glob)',\n",
       "  'g = lambda x, y: x * y\\nprint(g(2, 3))',\n",
       "  \"# 파일 I/O 처리\\nf = open('test.txt', 'w') # 'w' - 쓰기모드\\nprint(f.write('EDDI\\\\nPython'))\\nf.close()\\n\\n# 윈도우의 경우\\nget_ipython().system('dir')\\n\\n# 리눅스 or MaC\\n#!ls\",\n",
       "  \"# 파일 I/O 처리\\nf = open('test.txt', 'w') # 'w' - 쓰기모드\\nprint(f.write('EDDI\\\\nPython'))\\nprint(f.write('hihi'))\\nf.close()\\n\\n# 윈도우의 경우\\nget_ipython().system('dir')\\n\\n# 리눅스 or MaC\\n#!ls\",\n",
       "  \"# 파일 I/O 처리\\nf = open('test.txt', 'w') # 'w' - 쓰기모드\\nprint(f.write('EDDI\\\\nPython')) # \\\\n newLine\\nprint(f.write('hihi'))\\nf.close()\\n\\n# 윈도우의 경우\\n#!dir\\n\\n# 리눅스 or MaC\\n#!ls\",\n",
       "  \"# 파일 I/O 처리\\nf = open('test.txt', 'w') # 'w' - 쓰기모드\\nprint(f.write('EDDI\\\\nPython')) # \\\\n newLine\\nprint(f.write('hihi'))\\nf.close()\\n\\n# 윈도우의 경우\\nget_ipython().system('dir')\\n\\n# 리눅스 or MaC\\n#!ls\",\n",
       "  \"# 파일 I/O 처리\\nf = open('test2.txt', 'w') # 'w' - 쓰기모드\\nprint(f.write('EDDI\\\\nPython')) # \\\\n newLine\\nprint(f.write('hihi'))\\nf.close()\\n\\n# 윈도우의 경우\\nget_ipython().system('dir')\\n\\n# 리눅스 or MaC\\n#!ls\",\n",
       "  \"# 잘 만들었는지 확인\\n# 윈도우\\nget_ipython().system('type test.txt')\\n\\n# 리눅스 or MaC\\n#!cat test.txt\",\n",
       "  \"# 잘 만들었는지 확인\\n# 윈도우\\nget_ipython().system('type test.txt')\\nget_ipython().system('type test2.tex')\\n\\n# 리눅스 or MaC\\n#!cat test.txt\",\n",
       "  \"# 잘 만들었는지 확인\\n# 윈도우\\nget_ipython().system('type test.txt')\\nget_ipython().system('type test2.txt')\\n\\n# 리눅스 or MaC\\n#!cat test.txt\",\n",
       "  \"f = open('test.txt')\\nprint(f.read())\\nf.close()\\nprint(f.closed)\",\n",
       "  \"with open('test.txt') as f:\\n    print(f.readlines())\\n    print(f.closed)\\n    \\nprint(f.closed)\",\n",
       "  'colors = [\\'red\\', \\'green\\', \\'blue\\']\\nprint(colors)\\n\\ndef check_colors():\\n    if \\'colors\\' in globals():\\n        print(\"True\")\\n    else:\\n        print(\"False\")',\n",
       "  \"import pickle\\n\\n# write byte로 문자가 아닌 데이터 저장시 활용\\nf = open('colors', 'wb')\\npickle.dump(colors, f)\\nf.close()\\n\\ncheck_colors()\",\n",
       "  '# colors 정보를 증발시킴\\ndel colors\\n\\ncheck_colors()',\n",
       "  'global colors = [\\'red\\', \\'green\\', \\'blue\\']\\nprint(colors)\\n\\ndef check_colors():\\n    if \\'colors\\' in globals():\\n        print(\"True\")\\n    else:\\n        print(\"False\")',\n",
       "  'colors = [\\'red\\', \\'green\\', \\'blue\\']\\nprint(colors)\\n\\ndef check_colors():\\n    if \\'colors\\' in globals():\\n        print(\"True\")\\n    else:\\n        print(\"False\")',\n",
       "  \"import pickle # 파이썬 object를 저장하는 역할을 가지고 있음\\n\\n# write byte로 문자가 아닌 데이터 저장시 활용 wb\\nf = open('colors', 'wb')\\npickle.dump(colors, f)\\nf.close()\\n\\ncheck_colors()\",\n",
       "  '# colors 정보를 증발시킴\\ndel colors\\n\\ncheck_colors()',\n",
       "  \"f = open('colors', 'rb')\\ncolors = pickle.load(f)\\nf.close()\\n\\nprint(colors)\\ncheck_colors()\",\n",
       "  \"import pickle # 파이썬 object를 저장하는 역할을 가지고 있음\\n\\n# write byte로 문자가 아닌 데이터 저장시 활용 wb\\nf = open('colors', 'wb')\\npickle.dump(colors, f)\\nf.close()\\n\\ncheck_colors()\",\n",
       "  \"import pickle # 파이썬 object를 저장하는 역할을 가지고 있음\\n\\n# write byte로 문자가 아닌 데이터 저장시 활용 wb\\nf = open('colors', 'wb')\\npickle.dump(colors, f)\\nf.close()\\n\\nprint(clolors)\\n\\ncheck_colors()\",\n",
       "  \"import pickle # 파이썬 object를 저장하는 역할을 가지고 있음\\n\\n# write byte로 문자가 아닌 데이터 저장시 활용 wb\\nf = open('colors', 'wb')\\npickle.dump(colors, f)\\nf.close()\\n\\nprint(colors)\\n\\ncheck_colors()\",\n",
       "  '# colors 정보를 증발시킴\\ndel colors\\nprint(colors)\\n\\ncheck_colors()',\n",
       "  '# colors 정보를 증발시킴\\nprint(colors)\\ndel colors\\n\\n\\ncheck_colors()',\n",
       "  \"import pickle # 파이썬 object를 저장하는 역할을 가지고 있음\\n\\n# write byte로 문자가 아닌 데이터 저장시 활용 wb\\nf = open('colors', 'wb')\\npickle.dump(colors, f)\\nf.close()\\n\\nprint(colors)\\n\\ncheck_colors()\",\n",
       "  'colors = [\\'red\\', \\'green\\', \\'blue\\']\\nprint(colors)\\n\\ndef check_colors():\\n    if \\'colors\\' in globals():\\n        print(\"True\")\\n    else:\\n        print(\"False\")',\n",
       "  \"import pickle # 파이썬 object를 저장하는 역할을 가지고 있음\\n\\n# write byte로 문자가 아닌 데이터 저장시 활용 wb\\nf = open('colors', 'wb')\\npickle.dump(colors, f)\\nf.close()\\n\\nprint(colors)\\n\\ncheck_colors()\",\n",
       "  '# colors 정보를 증발시킴\\nprint(colors)\\ndel colors\\n\\n\\ncheck_colors()',\n",
       "  'globals()'],\n",
       " 'Out': {},\n",
       " 'get_ipython': <bound method InteractiveShell.get_ipython of <ipykernel.zmqshell.ZMQInteractiveShell object at 0x000001BBDD75E7C0>>,\n",
       " 'exit': <IPython.core.autocall.ZMQExitAutocall at 0x1bbdd75eeb0>,\n",
       " 'quit': <IPython.core.autocall.ZMQExitAutocall at 0x1bbdd75eeb0>,\n",
       " '_': '',\n",
       " '__': '',\n",
       " '___': '',\n",
       " '_i': '# colors 정보를 증발시킴\\nprint(colors)\\ndel colors\\n\\n\\ncheck_colors()',\n",
       " '_ii': \"import pickle # 파이썬 object를 저장하는 역할을 가지고 있음\\n\\n# write byte로 문자가 아닌 데이터 저장시 활용 wb\\nf = open('colors', 'wb')\\npickle.dump(colors, f)\\nf.close()\\n\\nprint(colors)\\n\\ncheck_colors()\",\n",
       " '_iii': 'colors = [\\'red\\', \\'green\\', \\'blue\\']\\nprint(colors)\\n\\ndef check_colors():\\n    if \\'colors\\' in globals():\\n        print(\"True\")\\n    else:\\n        print(\"False\")',\n",
       " '_i1': 'def swap(x, y):\\n    return y, x\\n\\n# 튜플은 왜 사용할까 ? java - final, c - const\\n# 값의 변경을 방지하기 위해 (immutable) - 불변성!\\n# 이 녀석은 궁극적으로 setter 를 쓰지말라와 연결됨\\n# 해당 내용은 결국 협업하는 관점까지도 연결이 됨\\nprint(swap(3, 7))',\n",
       " 'swap': <function __main__.swap(x, y)>,\n",
       " '_i2': 'a, b = swap(33, 77)\\nprint(a)\\nprint(b)',\n",
       " 'a': 10,\n",
       " 'b': 20,\n",
       " '_i3': 'x = swap(333, 777)\\nprint(x)\\nprint(type(x))',\n",
       " 'x': 10,\n",
       " '_i4': 'a = 10\\nb = 20\\n\\ndef sum_test(x, y):\\n    return x + y\\n\\nprint(sum_test(a, b))',\n",
       " 'sum_test': <function __main__.sum_test(x, y)>,\n",
       " '_i5': 'x = 10\\n\\ndef sum_test2(x, y):\\n    x = 1\\n    return x + y\\n\\nprint(sum_test2(x, x))\\nprint(x)',\n",
       " 'sum_test2': <function __main__.sum_test2(x, y)>,\n",
       " '_i6': \"def change(x):\\n    x[0] = 'H'\\n    \\nwordList = ['J', 'A', 'M']\\nprint(wordList)\\n\\nchange(wordList)\\nprint(wordList)\",\n",
       " 'change': <function __main__.change(x)>,\n",
       " 'wordList': ['J', 'A', 'M'],\n",
       " '_i7': \"def change2(x):\\n    # 아래와 같은 방식의 복사는 서로 다른 메모리를 참조함\\n    # 다른 객체가 되었음 (값은 복사됨)\\n    x = x[:]\\n    # 데이터는 바꾸지 않고 특정 가공을 하거나 처리를 해야하는 상황\\n    x[0] = 'H'\\n    \\nwordList = ['J', 'A', 'M']\\nprint(wordList)\\n\\nchange2(wordList)\\nprint(wordList)\",\n",
       " 'change2': <function __main__.change2(x)>,\n",
       " '_i8': \"def change2(x):\\n    # 아래와 같은 방식의 복사는 서로 다른 메모리를 참조함\\n    # 다른 객체가 되었음 (값은 복사됨)\\n    x = x[:]\\n    # 데이터는 바꾸지 않고 특정 가공을 하거나 처리를 해야하는 상황\\n    x[0] = 'H'\\n    print(x)\\n    \\nwordList = ['J', 'A', 'M']\\nprint(wordList)\\n\\nchange2(wordList)\\nprint(wordList)\",\n",
       " '_i9': 'glob = 1\\nprint(glob)\\n\\ndef globScope(x):\\n    global glob\\n    glob = 7\\n    return glob + x\\n\\nprint(globScope(3))\\nprint(glob)',\n",
       " 'glob': 7,\n",
       " 'globScope': <function __main__.globScope(x)>,\n",
       " '_i10': '\\ng = lambda x, y: x * y\\nprint(g(2, 3))',\n",
       " 'g': <function __main__.<lambda>(x, y)>,\n",
       " '_i11': \" \\n# 파일 I/O 처리\\nf = open('test.txt', 'w') # 'w' - 쓰기모드\\nprint(f.write('EDDI\\\\nPython'))\\nf.close()\\n\\n# 윈도우의 경우\\n!dir\\n\\n# 리눅스 or MaC\\n#!ls\",\n",
       " 'f': <_io.BufferedWriter name='colors'>,\n",
       " '_exit_code': 0,\n",
       " '_i12': \" \\n# 파일 I/O 처리\\nf = open('test.txt', 'w') # 'w' - 쓰기모드\\nprint(f.write('EDDI\\\\nPython'))\\nprint(f.write('hihi'))\\nf.close()\\n\\n# 윈도우의 경우\\n!dir\\n\\n# 리눅스 or MaC\\n#!ls\",\n",
       " '_i13': \" \\n# 파일 I/O 처리\\nf = open('test.txt', 'w') # 'w' - 쓰기모드\\nprint(f.write('EDDI\\\\nPython')) # \\\\n newLine\\nprint(f.write('hihi'))\\nf.close()\\n\\n# 윈도우의 경우\\n#!dir\\n\\n# 리눅스 or MaC\\n#!ls\",\n",
       " '_i14': \" \\n# 파일 I/O 처리\\nf = open('test.txt', 'w') # 'w' - 쓰기모드\\nprint(f.write('EDDI\\\\nPython')) # \\\\n newLine\\nprint(f.write('hihi'))\\nf.close()\\n\\n# 윈도우의 경우\\n!dir\\n\\n# 리눅스 or MaC\\n#!ls\",\n",
       " '_i15': \"# 파일 I/O 처리\\nf = open('test2.txt', 'w') # 'w' - 쓰기모드\\nprint(f.write('EDDI\\\\nPython')) # \\\\n newLine\\nprint(f.write('hihi'))\\nf.close()\\n\\n# 윈도우의 경우\\n!dir\\n\\n# 리눅스 or MaC\\n#!ls\",\n",
       " '_i16': '# 잘 만들었는지 확인\\n# 윈도우\\n!type test.txt\\n\\n# 리눅스 or MaC\\n#!cat test.txt',\n",
       " '_i17': '# 잘 만들었는지 확인\\n# 윈도우\\n!type test.txt\\n!type test2.tex\\n\\n# 리눅스 or MaC\\n#!cat test.txt',\n",
       " '_i18': '# 잘 만들었는지 확인\\n# 윈도우\\n!type test.txt\\n!type test2.txt\\n\\n# 리눅스 or MaC\\n#!cat test.txt',\n",
       " '_i19': \"f = open('test.txt')\\nprint(f.read())\\nf.close()\\nprint(f.closed)\",\n",
       " '_i20': \"with open('test.txt') as f:\\n    print(f.readlines())\\n    print(f.closed)\\n    \\nprint(f.closed)\",\n",
       " '_i21': 'colors = [\\'red\\', \\'green\\', \\'blue\\']\\nprint(colors)\\n\\ndef check_colors():\\n    if \\'colors\\' in globals():\\n        print(\"True\")\\n    else:\\n        print(\"False\")',\n",
       " 'check_colors': <function __main__.check_colors()>,\n",
       " '_i22': \"import pickle\\n\\n# write byte로 문자가 아닌 데이터 저장시 활용\\nf = open('colors', 'wb')\\npickle.dump(colors, f)\\nf.close()\\n\\ncheck_colors()\",\n",
       " 'pickle': <module 'pickle' from 'C:\\\\anaconda3\\\\lib\\\\pickle.py'>,\n",
       " '_i23': '# colors 정보를 증발시킴\\ndel colors\\n\\ncheck_colors()',\n",
       " '_i24': 'global colors = [\\'red\\', \\'green\\', \\'blue\\']\\nprint(colors)\\n\\ndef check_colors():\\n    if \\'colors\\' in globals():\\n        print(\"True\")\\n    else:\\n        print(\"False\")',\n",
       " '_i25': 'colors = [\\'red\\', \\'green\\', \\'blue\\']\\nprint(colors)\\n\\ndef check_colors():\\n    if \\'colors\\' in globals():\\n        print(\"True\")\\n    else:\\n        print(\"False\")',\n",
       " '_i26': \"import pickle # 파이썬 object를 저장하는 역할을 가지고 있음\\n\\n# write byte로 문자가 아닌 데이터 저장시 활용 wb\\nf = open('colors', 'wb')\\npickle.dump(colors, f)\\nf.close()\\n\\ncheck_colors()\",\n",
       " '_i27': '# colors 정보를 증발시킴\\ndel colors\\n\\ncheck_colors()',\n",
       " '_i28': \"f = open('colors', 'rb')\\ncolors = pickle.load(f)\\nf.close()\\n\\nprint(colors)\\ncheck_colors()\",\n",
       " '_i29': \"import pickle # 파이썬 object를 저장하는 역할을 가지고 있음\\n\\n# write byte로 문자가 아닌 데이터 저장시 활용 wb\\nf = open('colors', 'wb')\\npickle.dump(colors, f)\\nf.close()\\n\\ncheck_colors()\",\n",
       " '_i30': \"import pickle # 파이썬 object를 저장하는 역할을 가지고 있음\\n\\n# write byte로 문자가 아닌 데이터 저장시 활용 wb\\nf = open('colors', 'wb')\\npickle.dump(colors, f)\\nf.close()\\n\\nprint(clolors)\\n\\ncheck_colors()\",\n",
       " '_i31': \"import pickle # 파이썬 object를 저장하는 역할을 가지고 있음\\n\\n# write byte로 문자가 아닌 데이터 저장시 활용 wb\\nf = open('colors', 'wb')\\npickle.dump(colors, f)\\nf.close()\\n\\nprint(colors)\\n\\ncheck_colors()\",\n",
       " '_i32': '# colors 정보를 증발시킴\\ndel colors\\nprint(colors)\\n\\ncheck_colors()',\n",
       " '_i33': '# colors 정보를 증발시킴\\nprint(colors)\\ndel colors\\n\\n\\ncheck_colors()',\n",
       " '_i34': \"import pickle # 파이썬 object를 저장하는 역할을 가지고 있음\\n\\n# write byte로 문자가 아닌 데이터 저장시 활용 wb\\nf = open('colors', 'wb')\\npickle.dump(colors, f)\\nf.close()\\n\\nprint(colors)\\n\\ncheck_colors()\",\n",
       " '_i35': 'colors = [\\'red\\', \\'green\\', \\'blue\\']\\nprint(colors)\\n\\ndef check_colors():\\n    if \\'colors\\' in globals():\\n        print(\"True\")\\n    else:\\n        print(\"False\")',\n",
       " '_i36': \"import pickle # 파이썬 object를 저장하는 역할을 가지고 있음\\n\\n# write byte로 문자가 아닌 데이터 저장시 활용 wb\\nf = open('colors', 'wb')\\npickle.dump(colors, f)\\nf.close()\\n\\nprint(colors)\\n\\ncheck_colors()\",\n",
       " '_i37': '# colors 정보를 증발시킴\\nprint(colors)\\ndel colors\\n\\n\\ncheck_colors()',\n",
       " '_i38': '\\nglobals()'}"
      ]
     },
     "execution_count": 38,
     "metadata": {},
     "output_type": "execute_result"
    }
   ],
   "source": [
    "\n",
    "globals()"
   ]
  },
  {
   "cell_type": "code",
   "execution_count": 39,
   "id": "09015d7e",
   "metadata": {},
   "outputs": [],
   "source": [
    "color = ['red', 'green', 'blue']"
   ]
  },
  {
   "cell_type": "code",
   "execution_count": 40,
   "id": "4c246881",
   "metadata": {},
   "outputs": [
    {
     "name": "stdout",
     "output_type": "stream",
     "text": [
      "['red', 'green', 'blue']\n"
     ]
    }
   ],
   "source": [
    "print(color)"
   ]
  },
  {
   "cell_type": "code",
   "execution_count": null,
   "id": "b65cc44c",
   "metadata": {},
   "outputs": [],
   "source": []
  },
  {
   "cell_type": "code",
   "execution_count": null,
   "id": "6c1acb54",
   "metadata": {},
   "outputs": [],
   "source": []
  },
  {
   "cell_type": "code",
   "execution_count": null,
   "id": "c283557f",
   "metadata": {},
   "outputs": [],
   "source": []
  },
  {
   "cell_type": "code",
   "execution_count": null,
   "id": "2ca520dd",
   "metadata": {},
   "outputs": [],
   "source": []
  },
  {
   "cell_type": "code",
   "execution_count": null,
   "id": "141e2bc0",
   "metadata": {},
   "outputs": [],
   "source": []
  },
  {
   "cell_type": "code",
   "execution_count": null,
   "id": "ce7c9161",
   "metadata": {},
   "outputs": [],
   "source": []
  },
  {
   "cell_type": "code",
   "execution_count": null,
   "id": "537d2789",
   "metadata": {},
   "outputs": [],
   "source": []
  },
  {
   "cell_type": "code",
   "execution_count": null,
   "id": "1731e0d3",
   "metadata": {},
   "outputs": [],
   "source": []
  }
 ],
 "metadata": {
  "kernelspec": {
   "display_name": "Python 3 (ipykernel)",
   "language": "python",
   "name": "python3"
  },
  "language_info": {
   "codemirror_mode": {
    "name": "ipython",
    "version": 3
   },
   "file_extension": ".py",
   "mimetype": "text/x-python",
   "name": "python",
   "nbconvert_exporter": "python",
   "pygments_lexer": "ipython3",
   "version": "3.9.12"
  }
 },
 "nbformat": 4,
 "nbformat_minor": 5
}
