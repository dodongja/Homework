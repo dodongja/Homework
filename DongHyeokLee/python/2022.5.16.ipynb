{
 "cells": [
  {
   "cell_type": "code",
   "execution_count": 5,
   "id": "e91c48e2",
   "metadata": {},
   "outputs": [
    {
     "name": "stdout",
     "output_type": "stream",
     "text": [
      "<Process name='Process-3' parent=13704 initial>\n"
     ]
    }
   ],
   "source": [
    "import time\n",
    "import multiprocessing\n",
    "\n",
    "def count_down(x):\n",
    "    while True:\n",
    "        if x == 0:\n",
    "            break\n",
    "            \n",
    "            print(\"카운트 다운 ... %d\" % x)\n",
    "            x -= 1\n",
    "            time.sleep(1)\n",
    "            \n",
    "\n",
    "if __name__ == '__main__':            \n",
    "    p = multiprocessing.Process(target=count_down, args=(5,))\n",
    "    print(p)\n",
    "    p.start()\n",
    "    p.join()"
   ]
  },
  {
   "cell_type": "code",
   "execution_count": 9,
   "id": "0ec71161",
   "metadata": {},
   "outputs": [
    {
     "name": "stdout",
     "output_type": "stream",
     "text": [
      "안녕!\n",
      "module name: __main__\n",
      "process id: 13704\n",
      "thread id: 3872안녕!\n",
      "module name: __main__\n",
      "process id: 13704\n",
      "thread id: 12396\n",
      "이런식으로도 많이 집어 넣으면 Context Switching 도 직접 확인 가능\n",
      "\n",
      "이런식으로도 많이 집어 넣으면 Context Switching 도 직접 확인 가능\n",
      "안녕!\n",
      "module name: __main__\n",
      "process id: 13704\n",
      "thread id: 15320\n",
      "이런식으로도 많이 집어 넣으면 Context Switching 도 직접 확인 가능\n",
      "안녕!\n",
      "module name: __main__\n",
      "process id: 13704\n",
      "thread id: 7184\n",
      "이런식으로도 많이 집어 넣으면 Context Switching 도 직접 확인 가능\n",
      "안녕!\n",
      "module name: __main__\n",
      "process id: 13704\n",
      "thread id: 10996\n",
      "이런식으로도 많이 집어 넣으면 Context Switching 도 직접 확인 가능\n",
      "잠자다일어나기\n",
      "\n",
      "잠자다일어나기\n",
      "잠자다일어나기\n",
      "잠자다일어나기\n",
      "잠자다일어나기\n",
      "\n",
      "\n",
      "\n",
      "\n",
      "종료:  1.02초\n"
     ]
    }
   ],
   "source": [
    "import threading\n",
    "import os\n",
    "\n",
    "def info():\n",
    "    print('module name:', __name__)\n",
    "    print('process id:', os.getpid())\n",
    "    print('thread id:', threading.get_ident())\n",
    "    print('이런식으로도 많이 집어 넣으면 Context Switching 도 직접 확인 가능')\n",
    "    \n",
    "def print_hello():\n",
    "    print(\"안녕!\")\n",
    "    info()\n",
    "    time.sleep(1)\n",
    "    print(\"잠자다일어나기\\n\")\n",
    "    \n",
    "if __name__ == '__main__':\n",
    "    start = time.perf_counter()\n",
    "    threads = []\n",
    "    \n",
    "    for _ in range(5):\n",
    "        t = threading.Thread(target = print_hello)\n",
    "        t.start()\n",
    "        threads.append(t)\n",
    "        \n",
    "    for thread in threads:\n",
    "        thread.join()\n",
    "        \n",
    "    finish = time.perf_counter()\n",
    "    \n",
    "    print('종료: ', str(round(finish - start, 2)) + \"초\")"
   ]
  },
  {
   "cell_type": "code",
   "execution_count": 13,
   "id": "72a9fd81",
   "metadata": {},
   "outputs": [
    {
     "name": "stdout",
     "output_type": "stream",
     "text": [
      "0 번째 반복 이후 x = 1642289\n",
      "1 번째 반복 이후 x = 1710940\n",
      "2 번째 반복 이후 x = 1509834\n",
      "3 번째 반복 이후 x = 1793979\n",
      "4 번째 반복 이후 x = 1455773\n",
      "5 번째 반복 이후 x = 1605217\n",
      "6 번째 반복 이후 x = 1566501\n",
      "7 번째 반복 이후 x = 1456089\n",
      "8 번째 반복 이후 x = 1739016\n",
      "9 번째 반복 이후 x = 1547391\n"
     ]
    }
   ],
   "source": [
    "import threading\n",
    "\n",
    "x = 0\n",
    "\n",
    "def increment_global():\n",
    "    global x\n",
    "    x += 1\n",
    "\n",
    "def thread_processing():\n",
    "    for _ in range(1000000):\n",
    "        increment_global()\n",
    "        \n",
    "def thread_main():\n",
    "    global x \n",
    "    x = 0\n",
    "    \n",
    "    t1 = threading.Thread(target = thread_processing)\n",
    "    t2 = threading.Thread(target = thread_processing)\n",
    "    \n",
    "    t1.start()\n",
    "    t2.start()\n",
    "    \n",
    "    t1.join()\n",
    "    t2.join()\n",
    "    \n",
    "for i in range(10):\n",
    "    thread_main()\n",
    "    print(\"{0} 번째 반복 이후 x = {1}\".format(i,x))"
   ]
  },
  {
   "cell_type": "code",
   "execution_count": 36,
   "id": "5607904b",
   "metadata": {},
   "outputs": [
    {
     "name": "stdout",
     "output_type": "stream",
     "text": [
      "Requirement already satisfied: pymysql in c:\\anaconda3\\lib\\site-packages (1.0.2)\n"
     ]
    }
   ],
   "source": [
    "#MySQL with Python\n",
    "!pip install pymysql"
   ]
  },
  {
   "cell_type": "code",
   "execution_count": 37,
   "id": "5c09dfe1",
   "metadata": {},
   "outputs": [],
   "source": [
    "import pymysql"
   ]
  },
  {
   "cell_type": "code",
   "execution_count": 38,
   "id": "812bf4f8",
   "metadata": {},
   "outputs": [],
   "source": [
    "MYSQL_USER_DATA_SAVED_FILE = \"mysql/userinfo\""
   ]
  },
  {
   "cell_type": "code",
   "execution_count": 39,
   "id": "f8667edf",
   "metadata": {},
   "outputs": [],
   "source": [
    "import pickle\n",
    "\n",
    "mysql_user_info = dict({\n",
    "    'user_id': 'eddi',\n",
    "    'password': 'eddi@123'\n",
    "})\n",
    "\n",
    "f = open(MYSQL_USER_DATA_SAVED_FILE, 'wb')\n",
    "pickle.dump(mysql_user_info, f)\n",
    "f.close()\n",
    "\n",
    "del mysql_user_info"
   ]
  },
  {
   "cell_type": "code",
   "execution_count": 40,
   "id": "7b77170c",
   "metadata": {},
   "outputs": [],
   "source": [
    "import pickle\n",
    "\n",
    "f = open(MYSQL_USER_DATA_SAVED_FILE, 'rb')\n",
    "mysql_user_info = pickle.load(f)\n",
    "f.close()"
   ]
  },
  {
   "cell_type": "code",
   "execution_count": 41,
   "id": "8a0e9184",
   "metadata": {},
   "outputs": [
    {
     "name": "stdout",
     "output_type": "stream",
     "text": [
      "<pymysql.connections.Connection object at 0x00000176ABC0D7C0>\n"
     ]
    }
   ],
   "source": [
    "db = pymysql.connect(\n",
    "    host = '127.0.0.1',\n",
    "    port = 3306,\n",
    "    user = mysql_user_info['user_id'],\n",
    "    passwd = mysql_user_info['password'],\n",
    "    # 여기서 사용할 스키마 하나 생성!\n",
    "    db = 'pydb'\n",
    ")\n",
    "\n",
    "print(db)"
   ]
  },
  {
   "cell_type": "code",
   "execution_count": 46,
   "id": "562ac2c6",
   "metadata": {},
   "outputs": [
    {
     "name": "stdout",
     "output_type": "stream",
     "text": [
      "테이블 생성 성공!\n"
     ]
    }
   ],
   "source": [
    "cursor = db.cursor()\n",
    "\n",
    "sql = \"\"\"\n",
    "    create table pydb_test(\n",
    "        id int unsigned not null auto_increment,\n",
    "        name varchar(20) not null,\n",
    "        price int not null,\n",
    "        primary key(id)\n",
    "    )\n",
    "\"\"\"\n",
    "\n",
    "cursor.execute(sql)\n",
    "db.commit()\n",
    "db.close()\n",
    "print('테이블 생성 성공!')"
   ]
  },
  {
   "cell_type": "code",
   "execution_count": null,
   "id": "69738ce0",
   "metadata": {},
   "outputs": [],
   "source": []
  },
  {
   "cell_type": "code",
   "execution_count": null,
   "id": "370709a1",
   "metadata": {},
   "outputs": [],
   "source": []
  },
  {
   "cell_type": "code",
   "execution_count": null,
   "id": "7129abfb",
   "metadata": {},
   "outputs": [],
   "source": []
  },
  {
   "cell_type": "code",
   "execution_count": null,
   "id": "c3934bbc",
   "metadata": {},
   "outputs": [],
   "source": []
  },
  {
   "cell_type": "code",
   "execution_count": null,
   "id": "55e028b0",
   "metadata": {},
   "outputs": [],
   "source": []
  },
  {
   "cell_type": "code",
   "execution_count": null,
   "id": "4a434acc",
   "metadata": {},
   "outputs": [],
   "source": []
  },
  {
   "cell_type": "code",
   "execution_count": null,
   "id": "91746f2a",
   "metadata": {},
   "outputs": [],
   "source": []
  },
  {
   "cell_type": "code",
   "execution_count": null,
   "id": "591ed948",
   "metadata": {},
   "outputs": [],
   "source": []
  },
  {
   "cell_type": "code",
   "execution_count": null,
   "id": "052737e7",
   "metadata": {},
   "outputs": [],
   "source": []
  },
  {
   "cell_type": "code",
   "execution_count": null,
   "id": "e083768e",
   "metadata": {},
   "outputs": [],
   "source": []
  },
  {
   "cell_type": "code",
   "execution_count": null,
   "id": "2f1ddf42",
   "metadata": {},
   "outputs": [],
   "source": []
  },
  {
   "cell_type": "code",
   "execution_count": null,
   "id": "391368c3",
   "metadata": {},
   "outputs": [],
   "source": []
  },
  {
   "cell_type": "code",
   "execution_count": null,
   "id": "b9cd158c",
   "metadata": {},
   "outputs": [],
   "source": []
  },
  {
   "cell_type": "code",
   "execution_count": null,
   "id": "ee99b0fb",
   "metadata": {},
   "outputs": [],
   "source": []
  },
  {
   "cell_type": "code",
   "execution_count": null,
   "id": "41d1f64c",
   "metadata": {},
   "outputs": [],
   "source": []
  },
  {
   "cell_type": "code",
   "execution_count": null,
   "id": "4f67cda3",
   "metadata": {},
   "outputs": [],
   "source": []
  },
  {
   "cell_type": "code",
   "execution_count": null,
   "id": "6640b65e",
   "metadata": {},
   "outputs": [],
   "source": []
  },
  {
   "cell_type": "code",
   "execution_count": null,
   "id": "bb2a3fec",
   "metadata": {},
   "outputs": [],
   "source": []
  },
  {
   "cell_type": "code",
   "execution_count": null,
   "id": "cf1c5ecd",
   "metadata": {},
   "outputs": [],
   "source": []
  },
  {
   "cell_type": "code",
   "execution_count": null,
   "id": "21c667bc",
   "metadata": {},
   "outputs": [],
   "source": []
  },
  {
   "cell_type": "code",
   "execution_count": null,
   "id": "7768e4d9",
   "metadata": {},
   "outputs": [],
   "source": []
  },
  {
   "cell_type": "code",
   "execution_count": null,
   "id": "1bad01ef",
   "metadata": {},
   "outputs": [],
   "source": []
  },
  {
   "cell_type": "code",
   "execution_count": null,
   "id": "febf6f97",
   "metadata": {},
   "outputs": [],
   "source": []
  },
  {
   "cell_type": "code",
   "execution_count": null,
   "id": "8b0c87c8",
   "metadata": {},
   "outputs": [],
   "source": []
  },
  {
   "cell_type": "code",
   "execution_count": null,
   "id": "4fc9575f",
   "metadata": {},
   "outputs": [],
   "source": []
  }
 ],
 "metadata": {
  "kernelspec": {
   "display_name": "Python 3 (ipykernel)",
   "language": "python",
   "name": "python3"
  },
  "language_info": {
   "codemirror_mode": {
    "name": "ipython",
    "version": 3
   },
   "file_extension": ".py",
   "mimetype": "text/x-python",
   "name": "python",
   "nbconvert_exporter": "python",
   "pygments_lexer": "ipython3",
   "version": "3.9.12"
  }
 },
 "nbformat": 4,
 "nbformat_minor": 5
}
